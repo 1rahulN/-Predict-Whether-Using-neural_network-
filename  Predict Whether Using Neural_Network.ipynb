{
 "cells": [
  {
   "cell_type": "markdown",
   "id": "a8c72b1b",
   "metadata": {},
   "source": [
    "## Imagine You Want to Predict Whether You Should Bring an Umbrella"
   ]
  },
  {
   "cell_type": "raw",
   "id": "f1d4e293",
   "metadata": {},
   "source": [
    "Let’s build a small neural network to help decide whether you should bring an umbrella based on two factors:\n",
    "\n",
    "Temperature (degrees): Hot or cold.\n",
    "Humidity (percentage): High or low.\n",
    "These are the input features, and we want to predict whether it will rain or not (yes or no)."
   ]
  },
  {
   "cell_type": "raw",
   "id": "fc5fd7a1",
   "metadata": {},
   "source": [
    "For a hands-on implementation, let’s create a simple neural network from scratch using Python and NumPy that will predict whether you should bring an umbrella based on temperature and humidity. We’ll implement a single-layer neural network (similar to what we discussed) using the sigmoid activation function."
   ]
  },
  {
   "cell_type": "code",
   "execution_count": 1,
   "id": "1b08d736",
   "metadata": {},
   "outputs": [
    {
     "name": "stdout",
     "output_type": "stream",
     "text": [
      "Trained weights: [[0.417022  ]\n",
      " [0.72032449]]\n",
      "Trained bias: [0.00011437]\n",
      "\n",
      "Rain prediction probability (0 to 1): [1.]\n",
      "Prediction: Yes, bring an umbrella!\n"
     ]
    }
   ],
   "source": [
    "import numpy as np\n",
    "\n",
    "# Sigmoid activation function\n",
    "def sigmoid(x):\n",
    "    return 1 / (1 + np.exp(-x))\n",
    "\n",
    "# Derivative of sigmoid for backpropagation\n",
    "def sigmoid_derivative(x):\n",
    "    return x * (1 - x)\n",
    "\n",
    "# Training dataset: [temperature, humidity]\n",
    "# For simplicity, we'll say temp < 30°C and humidity > 70% means rain\n",
    "# Features: [Temperature, Humidity] with a binary output for rain prediction\n",
    "training_inputs = np.array([[30, 80],  # Likely to rain (yes)\n",
    "                            [25, 90],  # Likely to rain (yes)\n",
    "                            [35, 40],  # No rain\n",
    "                            [20, 85]])  # Likely to rain (yes)\n",
    "\n",
    "# Labels for the dataset (1 = Yes, 0 = No)\n",
    "training_outputs = np.array([[1], [1], [0], [1]])\n",
    "\n",
    "# Initialize weights randomly (for 2 inputs and 1 output)\n",
    "np.random.seed(1)  # Seed to make the randomness deterministic for reproducibility\n",
    "weights = np.random.rand(2, 1)\n",
    "\n",
    "# Bias\n",
    "bias = np.random.rand(1)\n",
    "\n",
    "# Set the learning rate\n",
    "learning_rate = 0.1\n",
    "epochs = 10000  # Number of training iterations\n",
    "\n",
    "# Training the network\n",
    "for epoch in range(epochs):\n",
    "    # Forward pass: calculate the dot product of inputs and weights, add bias\n",
    "    inputs = np.dot(training_inputs, weights) + bias\n",
    "    outputs = sigmoid(inputs)\n",
    "    \n",
    "    # Compute error (difference between the prediction and actual output)\n",
    "    error = training_outputs - outputs\n",
    "    \n",
    "    # Backpropagation: calculate adjustments based on error and derivative of sigmoid\n",
    "    adjustments = error * sigmoid_derivative(outputs)\n",
    "    \n",
    "    # Update weights and bias\n",
    "    weights += np.dot(training_inputs.T, adjustments) * learning_rate\n",
    "    bias += np.sum(adjustments) * learning_rate\n",
    "\n",
    "# After training, let's check the results\n",
    "print(\"Trained weights:\", weights)\n",
    "print(\"Trained bias:\", bias)\n",
    "\n",
    "# Testing the network with new input: Should I bring an umbrella?\n",
    "# For example, temperature = 28°C, humidity = 75%\n",
    "new_input = np.array([28, 75])\n",
    "result = sigmoid(np.dot(new_input, weights) + bias)\n",
    "\n",
    "print(\"\\nRain prediction probability (0 to 1):\", result)\n",
    "if result > 0.5:\n",
    "    print(\"Prediction: Yes, bring an umbrella!\")\n",
    "else:\n",
    "    print(\"Prediction: No, don't bring an umbrella!\")"
   ]
  },
  {
   "cell_type": "markdown",
   "id": "e6a80ad7",
   "metadata": {},
   "source": [
    "## Explanation:"
   ]
  },
  {
   "cell_type": "raw",
   "id": "1bb6c9c8",
   "metadata": {},
   "source": [
    " Sigmoid Activation Function: Converts the output to a value between 0 and 1, representing the probability of rain.\n",
    "Weights and Bias: Initially, they are random and get updated during the training process.\n",
    "Forward Pass: Multiplies inputs (temperature and humidity) by weights, adds bias, and applies the sigmoid function to predict whether it will rain.\n",
    "Backpropagation: Updates the weights and bias based on the error between predicted and actual values."
   ]
  }
 ],
 "metadata": {
  "kernelspec": {
   "display_name": "Python 3 (ipykernel)",
   "language": "python",
   "name": "python3"
  },
  "language_info": {
   "codemirror_mode": {
    "name": "ipython",
    "version": 3
   },
   "file_extension": ".py",
   "mimetype": "text/x-python",
   "name": "python",
   "nbconvert_exporter": "python",
   "pygments_lexer": "ipython3",
   "version": "3.11.3"
  }
 },
 "nbformat": 4,
 "nbformat_minor": 5
}
